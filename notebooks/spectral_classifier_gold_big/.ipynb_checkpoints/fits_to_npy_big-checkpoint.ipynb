{
 "cells": [
  {
   "cell_type": "code",
   "execution_count": 1,
   "id": "6e2b226d",
   "metadata": {},
   "outputs": [
    {
     "name": "stdout",
     "output_type": "stream",
     "text": [
      "Länge der Liste wavelength ist: 3267\n",
      "Länge der Liste wavelength ist: 2690\n",
      "Länge der Liste wavelength ist: 3483\n",
      "Länge der Liste wavelength ist: 3521\n",
      "0.16% waren nicht erfolgreich bei der Klasse:AGN\n"
     ]
    },
    {
     "ename": "NotADirectoryError",
     "evalue": "[WinError 267] Der Verzeichnisname ist ungültig: 'F:\\\\data\\\\spectral_fits_gold\\\\data.npy\\\\'",
     "output_type": "error",
     "traceback": [
      "\u001b[1;31m---------------------------------------------------------------------------\u001b[0m",
      "\u001b[1;31mNotADirectoryError\u001b[0m                        Traceback (most recent call last)",
      "\u001b[1;32m~\\AppData\\Local\\Temp/ipykernel_4876/374206826.py\u001b[0m in \u001b[0;36m<module>\u001b[1;34m\u001b[0m\n\u001b[0;32m     25\u001b[0m     \u001b[0mcount_added\u001b[0m\u001b[1;33m=\u001b[0m\u001b[1;36m0\u001b[0m\u001b[1;33m\u001b[0m\u001b[1;33m\u001b[0m\u001b[0m\n\u001b[0;32m     26\u001b[0m \u001b[1;33m\u001b[0m\u001b[0m\n\u001b[1;32m---> 27\u001b[1;33m     \u001b[1;32mfor\u001b[0m \u001b[0mfilename\u001b[0m \u001b[1;32min\u001b[0m \u001b[0mos\u001b[0m\u001b[1;33m.\u001b[0m\u001b[0mlistdir\u001b[0m\u001b[1;33m(\u001b[0m\u001b[0mfits_path\u001b[0m \u001b[1;33m+\u001b[0m \u001b[0mdirectory\u001b[0m \u001b[1;33m+\u001b[0m \u001b[1;34m'\\\\'\u001b[0m\u001b[1;33m)\u001b[0m\u001b[1;33m:\u001b[0m\u001b[1;33m\u001b[0m\u001b[1;33m\u001b[0m\u001b[0m\n\u001b[0m\u001b[0;32m     28\u001b[0m \u001b[1;33m\u001b[0m\u001b[0m\n\u001b[0;32m     29\u001b[0m         \u001b[0mpath\u001b[0m \u001b[1;33m=\u001b[0m \u001b[0mfits_path\u001b[0m \u001b[1;33m+\u001b[0m \u001b[1;34m'\\\\'\u001b[0m \u001b[1;33m+\u001b[0m \u001b[0mdirectory\u001b[0m \u001b[1;33m+\u001b[0m \u001b[1;34m'\\\\'\u001b[0m \u001b[1;33m+\u001b[0m \u001b[0mfilename\u001b[0m\u001b[1;33m\u001b[0m\u001b[1;33m\u001b[0m\u001b[0m\n",
      "\u001b[1;31mNotADirectoryError\u001b[0m: [WinError 267] Der Verzeichnisname ist ungültig: 'F:\\\\data\\\\spectral_fits_gold\\\\data.npy\\\\'"
     ]
    }
   ],
   "source": [
    "import numpy as np\n",
    "from astropy.io import fits\n",
    "import matplotlib.pyplot as plt\n",
    "from astropy.wcs import WCS\n",
    "import os\n",
    "import csv\n",
    "\n",
    "########## Input ##########\n",
    "\n",
    "fits_path = 'F:\\\\data\\\\spectral_fits_gold\\\\'\n",
    "\n",
    "samples_per_class = 2500\n",
    "\n",
    "smallest_wavelength = 4000 # in Angström\n",
    "biggest_wavelength = 9000 \n",
    "\n",
    "########## Program ##########\n",
    "\n",
    "all_flux = []\n",
    "filenames = []\n",
    "\n",
    "for directory in os.listdir(fits_path):\n",
    "    \n",
    "    count_failed=0\n",
    "    count_added=0\n",
    "    \n",
    "    for filename in os.listdir(fits_path + directory + '\\\\'):\n",
    "        \n",
    "        path = fits_path + '\\\\' + directory + '\\\\' + filename\n",
    "        \n",
    "        # fits-Dateien öffnen und wavelength + flux einlesen\n",
    "        hdul = fits.open(path)\n",
    "        data = hdul[1].data\n",
    "        flux = data['flux']\n",
    "        wavelength = 10**data['loglam']\n",
    "        hdul.close()\n",
    "        \n",
    "        # first und last Index finden\n",
    "        for i in range(len(wavelength)):\n",
    "            if wavelength[i]>smallest_wavelength:\n",
    "                first_index = i\n",
    "                break\n",
    "\n",
    "        for i in range(len(wavelength)):\n",
    "            if wavelength[i]>biggest_wavelength:\n",
    "                last_index = i\n",
    "                break\n",
    "\n",
    "        # wavenlength und flux Listen schneiden\n",
    "        wavelength = wavelength[first_index:last_index]\n",
    "        flux = flux[first_index:last_index]\n",
    "        \n",
    "        if len(wavelength) == 3522 and count_added < samples_per_class:\n",
    "            all_flux.append(flux)\n",
    "            filenames.append(filename)\n",
    "            count_added += 1        \n",
    "\n",
    "        if len(wavelength) != 3522:\n",
    "            print(\"Länge der Liste wavelength ist: \" + str(len(wavelength)))\n",
    "            count_failed += 1            \n",
    "            \n",
    "    print(str(count_failed/samples_per_class*100) + \"% waren nicht erfolgreich bei der Klasse:\" + directory)\n",
    "\n",
    "# Numpy Arrays mit Daten füllen\n",
    "data = np.array(all_flux)\n",
    "\n",
    "labels = np.zeros(shape=(4*samples_per_class,), dtype='int')\n",
    "for i in range(4):\n",
    "    for t in range(samples_per_class):\n",
    "        labels[i*samples_per_classclass+t] = i\n",
    "        \n",
    "wavelengths = np.array(wavelength)\n",
    "filenames = np.array(filenames)\n",
    "\n",
    "# Numpy arrays in .npy Dateien speichern\n",
    "np.save(fits_path + \"data.npy\", data)\n",
    "np.save(fits_path + \"labels.npy\", labels)\n",
    "np.save(fits_path + \"wavelengths.npy\", wavelengths)\n",
    "np.save(fits_path + \"filenames.npy\", filenames)"
   ]
  },
  {
   "cell_type": "code",
   "execution_count": null,
   "id": "85504e55",
   "metadata": {},
   "outputs": [],
   "source": []
  }
 ],
 "metadata": {
  "kernelspec": {
   "display_name": "Python 3 (ipykernel)",
   "language": "python",
   "name": "python3"
  },
  "language_info": {
   "codemirror_mode": {
    "name": "ipython",
    "version": 3
   },
   "file_extension": ".py",
   "mimetype": "text/x-python",
   "name": "python",
   "nbconvert_exporter": "python",
   "pygments_lexer": "ipython3",
   "version": "3.8.5"
  }
 },
 "nbformat": 4,
 "nbformat_minor": 5
}
