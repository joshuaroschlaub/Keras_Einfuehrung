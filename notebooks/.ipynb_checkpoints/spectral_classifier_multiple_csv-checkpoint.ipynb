{
 "cells": [
  {
   "cell_type": "code",
   "execution_count": 1,
   "metadata": {},
   "outputs": [],
   "source": [
    "#import tensorflow as tf\n",
    "import matplotlib.pyplot as plt\n",
    "from astropy.io import fits\n",
    "import numpy as np\n",
    "import os"
   ]
  },
  {
   "cell_type": "code",
   "execution_count": 2,
   "metadata": {},
   "outputs": [],
   "source": [
    "data = np.zeros(shape=(4000,3522,2))\n",
    "# labels = np.zeros(shape=(4000,))\n",
    "labels =np.empty(4000, dtype='str')\n",
    "\n",
    "# Daten in numpy arrays data und labels einlesen\n",
    "i=0\n",
    "csv_path = 'F:\\\\data\\\\spectral_csv\\\\'\n",
    "\n",
    "for directory in os.listdir(csv_path):\n",
    "\n",
    "    for filename in os.listdir(csv_path + directory + '\\\\'):\n",
    "        \n",
    "        path = csv_path + '\\\\' + directory + '\\\\' + filename\n",
    "        \n",
    "        spectrum = np.genfromtxt(path, delimiter=\",\", skip_header=1)\n",
    "        \n",
    "        data[i] = spectrum\n",
    "        labels[i] = directory\n",
    "        i += 1\n",
    "        \n",
    "# Daten normieren"
   ]
  },
  {
   "cell_type": "code",
   "execution_count": 61,
   "metadata": {},
   "outputs": [
    {
     "name": "stdout",
     "output_type": "stream",
     "text": [
      "(4000, 3522, 2)\n"
     ]
    }
   ],
   "source": [
    "print(data.shape)"
   ]
  },
  {
   "cell_type": "code",
   "execution_count": 25,
   "metadata": {},
   "outputs": [
    {
     "name": "stdout",
     "output_type": "stream",
     "text": [
      "7983.6226\n",
      "7983.6226\n",
      "7983.6226\n",
      "7983.6226\n",
      "7983.6226\n",
      "7983.6226\n",
      "7983.6226\n",
      "7983.6226\n",
      "7983.6226\n",
      "7983.6226\n",
      "7983.6226\n",
      "7983.6226\n",
      "7983.6226\n",
      "7983.6226\n",
      "7983.6226\n",
      "7983.6226\n",
      "7983.6226\n",
      "7983.6226\n",
      "7983.6226\n",
      "7983.6226\n",
      "7983.6226\n",
      "7983.6226\n",
      "7983.6226\n",
      "7983.6226\n",
      "7983.6226\n",
      "7983.6226\n",
      "7983.6226\n",
      "7983.6226\n",
      "7983.6226\n",
      "7983.6226\n",
      "7983.6226\n",
      "7983.6226\n",
      "7983.6226\n",
      "7983.6226\n",
      "7983.6226\n",
      "7983.6226\n",
      "7983.6226\n",
      "7983.6226\n",
      "7983.6226\n",
      "7983.6226\n",
      "7983.6226\n",
      "7983.6226\n",
      "7983.6226\n",
      "7983.6226\n",
      "7983.6226\n",
      "7983.6226\n",
      "7983.6226\n",
      "7983.6226\n",
      "7983.6226\n",
      "7983.6226\n",
      "7983.6226\n",
      "7983.6226\n",
      "7983.6226\n",
      "7983.6226\n",
      "7983.6226\n",
      "7983.6226\n",
      "7983.6226\n",
      "7983.6226\n",
      "7983.6226\n",
      "7983.6226\n",
      "7983.6226\n",
      "7983.6226\n",
      "7983.6226\n",
      "7983.6226\n",
      "7983.6226\n",
      "7983.6226\n",
      "7983.6226\n",
      "7983.6226\n",
      "7983.6226\n",
      "7983.6226\n",
      "7983.6226\n",
      "7983.6226\n",
      "7983.6226\n",
      "7983.6226\n",
      "7983.6226\n",
      "7983.6226\n",
      "7983.6226\n",
      "7983.6226\n",
      "7983.6226\n",
      "7983.6226\n",
      "7983.6226\n",
      "7983.6226\n",
      "7983.6226\n",
      "7983.6226\n",
      "7983.6226\n",
      "7983.6226\n",
      "7983.6226\n",
      "7983.6226\n",
      "7983.6226\n",
      "7983.6226\n",
      "7983.6226\n",
      "7983.6226\n",
      "7983.6226\n",
      "7983.6226\n",
      "7983.6226\n",
      "7983.6226\n",
      "7983.6226\n",
      "7983.6226\n",
      "7983.6226\n",
      "7983.6226\n"
     ]
    }
   ],
   "source": [
    "for i in range(100):\n",
    "    print(data[i][3001][0])"
   ]
  },
  {
   "cell_type": "code",
   "execution_count": null,
   "metadata": {},
   "outputs": [],
   "source": []
  }
 ],
 "metadata": {
  "kernelspec": {
   "display_name": "Python 3",
   "language": "python",
   "name": "python3"
  },
  "language_info": {
   "codemirror_mode": {
    "name": "ipython",
    "version": 3
   },
   "file_extension": ".py",
   "mimetype": "text/x-python",
   "name": "python",
   "nbconvert_exporter": "python",
   "pygments_lexer": "ipython3",
   "version": "3.8.5"
  }
 },
 "nbformat": 4,
 "nbformat_minor": 4
}
