{
 "cells": [
  {
   "cell_type": "markdown",
   "metadata": {},
   "source": [
    "**Module importieren**"
   ]
  },
  {
   "cell_type": "code",
   "execution_count": 49,
   "metadata": {},
   "outputs": [],
   "source": [
    "import numpy as np\n",
    "from astropy.io import fits\n",
    "import matplotlib.pyplot as plt\n",
    "from astropy.wcs import WCS\n",
    "import os"
   ]
  },
  {
   "cell_type": "markdown",
   "metadata": {},
   "source": [
    "**fits-Datei öffnen**"
   ]
  },
  {
   "cell_type": "code",
   "execution_count": 50,
   "metadata": {},
   "outputs": [],
   "source": [
    "file = fits.open('F:\\data\\spectral_fits\\star\\spec-0268-51633-0017.fits')"
   ]
  },
  {
   "cell_type": "code",
   "execution_count": 51,
   "metadata": {
    "scrolled": true
   },
   "outputs": [
    {
     "name": "stdout",
     "output_type": "stream",
     "text": [
      "XTENSION= 'BINTABLE'           / binary table extension                         BITPIX  =                    8 / array data type                                NAXIS   =                    2 / number of array dimensions                     NAXIS1  =                   32 / length of dimension 1                          NAXIS2  =                 3837 / length of dimension 2                          PCOUNT  =                    0 / number of group parameters                     GCOUNT  =                    1 / number of groups                               TFIELDS =                    8 / number of table fields                         TTYPE1  = 'flux    '                                                            TFORM1  = 'E       '                                                            TTYPE2  = 'loglam  '                                                            TFORM2  = 'E       '                                                            TTYPE3  = 'ivar    '                                                            TFORM3  = 'E       '                                                            TTYPE4  = 'and_mask'                                                            TFORM4  = 'J       '                                                            TTYPE5  = 'or_mask '                                                            TFORM5  = 'J       '                                                            TTYPE6  = 'wdisp   '                                                            TFORM6  = 'E       '                                                            TTYPE7  = 'sky     '                                                            TFORM7  = 'E       '                                                            TTYPE8  = 'model   '                                                            TFORM8  = 'E       '                                                            EXTNAME = 'COADD   '                                                            COMMENT Coadded spectrum                                                        END                                                                                                                                                                                                                                                                                                                                                                                                                                                                                                                                                                                                                                                                                                                                                                                                                             \n",
      "[(71.478714, 3.5809, 0.03336568, 0,        0, 1.292561  , 8.726186, 79.04398  )\n",
      " (80.30267 , 3.581 , 0.03244727, 0,        0, 1.2922347 , 8.433188, 82.89607  )\n",
      " (79.398735, 3.5811, 0.03250702, 0,        0, 1.2919084 , 8.177782, 89.41042  )\n",
      " ...\n",
      " (27.752916, 3.9643, 0.3917099 , 0,        0, 0.86458033, 5.93261 , 13.605478 )\n",
      " (27.760117, 3.9644, 0.39414373, 0,        0, 0.8643193 , 6.563294, -2.9223957)\n",
      " (27.06409 , 3.9645, 0.3415722 , 0, 67108864, 0.8640576 , 7.232611, -5.7244315)]\n"
     ]
    }
   ],
   "source": [
    "header = file[1].header\n",
    "print(header)\n",
    "data = file[1].data\n",
    "print(data)"
   ]
  },
  {
   "cell_type": "markdown",
   "metadata": {},
   "source": [
    "**Plot erstellen**"
   ]
  },
  {
   "cell_type": "code",
   "execution_count": 52,
   "metadata": {},
   "outputs": [],
   "source": [
    "flux = data['flux']\n",
    "wavelength = 10**data['loglam']"
   ]
  },
  {
   "cell_type": "code",
   "execution_count": 53,
   "metadata": {},
   "outputs": [],
   "source": [
    "file.close()"
   ]
  },
  {
   "cell_type": "code",
   "execution_count": 54,
   "metadata": {},
   "outputs": [
    {
     "data": {
      "image/png": "[encoded data removed]",
      "text/plain": [
       "<Figure size 432x288 with 1 Axes>"
      ]
     },
     "metadata": {
      "needs_background": "light"
     },
     "output_type": "display_data"
    }
   ],
   "source": [
    "plt.plot(wavelength, flux) \n",
    "plt.xlabel('wavelength(Å)') \n",
    "plt.ylabel('flux (10-17 ergs/s/cm2/Å)') \n",
    "plt.grid(True) "
   ]
  },
  {
   "cell_type": "code",
   "execution_count": 55,
   "metadata": {},
   "outputs": [
    {
     "name": "stdout",
     "output_type": "stream",
     "text": [
      "3837\n",
      "[3809.7805 3810.659  3811.5356 ... 9210.8545 9212.979  9215.098 ]\n"
     ]
    }
   ],
   "source": [
    "print(len(wavelength))\n",
    "print(wavelength)"
   ]
  },
  {
   "cell_type": "code",
   "execution_count": 56,
   "metadata": {},
   "outputs": [
    {
     "name": "stdout",
     "output_type": "stream",
     "text": [
      "212\n",
      "3734\n",
      "4000.3674\n",
      "8999.12\n",
      "[4000.3674 4001.29   4002.2104 ... 8994.976  8997.045  8999.12  ]\n",
      "3522\n"
     ]
    }
   ],
   "source": [
    "for i in range(len(wavelength)):\n",
    "    if wavelength[i]>4000:\n",
    "        first_index = i\n",
    "        break\n",
    "        \n",
    "for i in range(len(wavelength)):\n",
    "    if wavelength[i]>9000:\n",
    "        last_index = i\n",
    "        break\n",
    "        \n",
    "print(first_index)\n",
    "print(last_index)\n",
    "\n",
    "wavelength = wavelength[first_index:last_index]\n",
    "print(wavelength[0])\n",
    "print(wavelength[-1])\n",
    "print(wavelength)\n",
    "print(len(wavelength))"
   ]
  },
  {
   "cell_type": "code",
   "execution_count": null,
   "metadata": {},
   "outputs": [],
   "source": []
  }
 ],
 "metadata": {
  "kernelspec": {
   "display_name": "Python 3",
   "language": "python",
   "name": "python3"
  },
  "language_info": {
   "codemirror_mode": {
    "name": "ipython",
    "version": 3
   },
   "file_extension": ".py",
   "mimetype": "text/x-python",
   "name": "python",
   "nbconvert_exporter": "python",
   "pygments_lexer": "ipython3",
   "version": "3.8.5"
  }
 },
 "nbformat": 4,
 "nbformat_minor": 4
}
