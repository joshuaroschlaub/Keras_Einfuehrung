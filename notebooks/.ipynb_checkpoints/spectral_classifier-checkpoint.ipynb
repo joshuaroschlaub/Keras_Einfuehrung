{
 "cells": [
  {
   "cell_type": "code",
   "execution_count": 5,
   "metadata": {},
   "outputs": [],
   "source": [
    "#import tensorflow as tf\n",
    "import matplotlib.pyplot as plt\n",
    "from astropy.io import fits\n",
    "import numpy as np\n",
    "import os\n",
    "import csv"
   ]
  },
  {
   "cell_type": "code",
   "execution_count": 49,
   "metadata": {},
   "outputs": [],
   "source": [
    "data = np.zeros(shape=(4000,3522))\n",
    "labels = np.empty(4000, dtype='str')\n",
    "wavelengths = np.zeros(shape=(3522,))\n",
    "\n",
    "# Daten in numpy arrays data und labels einlesen\n",
    "i=0\n",
    "data_path = 'F:\\\\data\\\\'\n",
    "\n",
    "file = open(data_path + 'spectral_data.csv', 'r') \n",
    "\n",
    "with file:\n",
    "    reader = csv.reader(file, delimiter=',')  \n",
    "    header_row = next(reader)    \n",
    "    \n",
    "    for row in reader:\n",
    "        wavelengths[reader.line_num-2] = row[0]\n",
    "        \n",
    "        for t in range(4000):\n",
    "            data[t][i] = row[t+1]  \n",
    "        i += 1\n",
    "        \n",
    "    file.close()\n",
    "\n",
    "for i in range(4000):\n",
    "    if 0<i<1000:\n",
    "        labels[i] = 'AGN'\n",
    "    if 1000<i<2000:\n",
    "        labels[i] = 'galaxy'\n",
    "    if 2000<i<3000:\n",
    "        labels[i] = 'QSO'\n",
    "    if 3000<i<4000:\n",
    "        labels[i] = 'star'"
   ]
  },
  {
   "cell_type": "code",
   "execution_count": 52,
   "metadata": {},
   "outputs": [
    {
     "name": "stdout",
     "output_type": "stream",
     "text": [
      "g\n"
     ]
    }
   ],
   "source": [
    "print(labels[1010])"
   ]
  },
  {
   "cell_type": "code",
   "execution_count": 51,
   "metadata": {},
   "outputs": [
    {
     "name": "stdout",
     "output_type": "stream",
     "text": [
      "19.254268646240234\n",
      "20.523767471313477\n",
      "21.418949127197266\n",
      "22.43065071105957\n",
      "21.865764617919922\n",
      "22.57924461364746\n",
      "27.820838928222656\n",
      "33.001121520996094\n",
      "28.744157791137695\n",
      "24.330007553100586\n",
      "4000.3674\n",
      "4001.29\n",
      "4002.2104\n",
      "4003.1333\n",
      "4004.0544\n",
      "4004.9775\n",
      "4005.899\n",
      "4006.8206\n",
      "4007.7446\n",
      "4008.6665\n",
      "\n",
      "g\n",
      "g\n",
      "g\n",
      "g\n",
      "g\n",
      "g\n",
      "g\n",
      "g\n",
      "g\n"
     ]
    }
   ],
   "source": [
    "for i in range(10):\n",
    "    print(data[1][i])\n",
    "for i in range(10):\n",
    "    print(wavelengths[i])\n",
    "for i in range(1000,1010):\n",
    "    print(labels[i])"
   ]
  },
  {
   "cell_type": "code",
   "execution_count": null,
   "metadata": {},
   "outputs": [],
   "source": []
  }
 ],
 "metadata": {
  "kernelspec": {
   "display_name": "Python 3",
   "language": "python",
   "name": "python3"
  },
  "language_info": {
   "codemirror_mode": {
    "name": "ipython",
    "version": 3
   },
   "file_extension": ".py",
   "mimetype": "text/x-python",
   "name": "python",
   "nbconvert_exporter": "python",
   "pygments_lexer": "ipython3",
   "version": "3.8.5"
  }
 },
 "nbformat": 4,
 "nbformat_minor": 4
}
